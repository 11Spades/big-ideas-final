{
 "cells": [
  {
   "cell_type": "markdown",
   "id": "937d09cc-599f-4668-b2ae-f886d522f15e",
   "metadata": {},
   "source": [
    "##### <center>**CMPINF 0010 - Group 36 Final Project**</center>\n",
    "## <center>**What is the Least Depressing Neighborhood in Pittsburgh?**</center>"
   ]
  },
  {
   "cell_type": "markdown",
   "id": "989e2fe3-6c64-4e0a-8f9d-539bca3530e2",
   "metadata": {},
   "source": [
    "##### **The Project**\n",
    "The aim of this project is to quantitatively determine the Pittsburgh neighborhood that is the least depressing to live in. To achieve this, we will be providing a clearly defined metric that we believe may indicate this quality in a neighborhood. The metric will be quantitative in nature and will be sourced from the **Western Pennsylvania Regional Data Center (WPRDC)**.\n",
    "Our approach is to pick three submetrics from the **WPRDC**, each of which we believe to have significance in our definition of *least depressing*, given below. We will analyze the submetrics individually, as well as considered together, to arrive at a verdict for overall least-depressiveness."
   ]
  },
  {
   "cell_type": "markdown",
   "id": "50ab68de-8d8a-4ed6-9b01-7cb8ac2004ae",
   "metadata": {},
   "source": [
    "##### **The Metric**\n",
    "We quantitatively define the \"least depressing neighborhood\" as the neighborhood that:\n",
    "<br>\n",
    "* `contains or has easy access to the largest number of city parks;`\n",
    "<br>\n",
    "* `has the lowest lifetime number of police arrests;`\n",
    "<br>\n",
    "* and `has the highest rates of community center attendance.`"
   ]
  },
  {
   "cell_type": "markdown",
   "id": "045edc26-81bf-4778-8e69-0e497257ab01",
   "metadata": {},
   "source": [
    "##### **Coming Up with the Metric**\n",
    "Our process of arriving at our decided metric was sophisticated. We threw around a handful of spontaneous ideas--most of which were not put to paper and thus unable to be recalled--until we found one we both seemed to be okay with--the \"least depressing\" metric for determining the best neighborhood.\n",
    "<br>\n",
    "Afterwards, we combed through the WPRDC website for available datasets that were also well-structured and thus not a hassle to analyze.\n",
    "<br>\n",
    "Out of the approximately nine suitable datasets, namely\n",
    "* no. of trees\n",
    "* no. of signalized intersections\n",
    "* no. of city parks\n",
    "* community center attendance\n",
    "* no. of smart trash containers\n",
    "* no. of playground\n",
    "* no. of bridges (this one might cut across neighborhoods)\n",
    "* no. of retaining walls\n",
    "* no. of water features (fountains, etc.),"
   ]
  },
  {
   "cell_type": "markdown",
   "id": "31303f99-92ee-4706-8c1e-0e3db194bf83",
   "metadata": {},
   "source": [
    "we settled on the current three that became our three submetrics that we will be analyzing individually and in tandem to fulfill our main metric."
   ]
  },
  {
   "cell_type": "markdown",
   "id": "624d5285-ed11-4e1f-b279-f2bf7e75108f",
   "metadata": {},
   "source": [
    "##### **Analysis: Police Arrests**"
   ]
  },
  {
   "cell_type": "code",
   "execution_count": 23,
   "id": "d661363d-5a9f-4210-a50b-cff9a5b5dbeb",
   "metadata": {},
   "outputs": [
    {
     "data": {
      "text/plain": [
       "INCIDENTNEIGHBORHOOD\n",
       "Central Business District      4440\n",
       "South Side Flats               3497\n",
       "Carrick                        2352\n",
       "East Allegheny                 2217\n",
       "Homewood South                 2090\n",
       "Homewood North                 1969\n",
       "East Liberty                   1889\n",
       "Marshall-Shadeland             1516\n",
       "Bluff                          1502\n",
       "Mount Washington               1434\n",
       "Hazelwood                      1396\n",
       "Brookline                      1390\n",
       "Lincoln-Lemington-Belmar       1362\n",
       "Knoxville                      1336\n",
       "Sheraden                       1285\n",
       "Allegheny Center               1244\n",
       "Beechview                      1201\n",
       "East Hills                     1194\n",
       "Brighton Heights               1114\n",
       "Perry South                    1057\n",
       "Bloomfield                      984\n",
       "Shadyside                       971\n",
       "Allentown                       947\n",
       "Middle Hill                     932\n",
       "Larimer                         879\n",
       "Central North Side              853\n",
       "Crawford-Roberts                839\n",
       "North Shore                     814\n",
       "Squirrel Hill South             812\n",
       "South Side Slopes               801\n",
       "Fineview                        796\n",
       "Homewood West                   764\n",
       "Garfield                        722\n",
       "Northview Heights               713\n",
       "Spring Hill-City View           711\n",
       "Bedford Dwellings               665\n",
       "Elliott                         663\n",
       "Crafton Heights                 601\n",
       "Perry North                     587\n",
       "Highland Park                   558\n",
       "Greenfield                      537\n",
       "Central Oakland                 521\n",
       "Strip District                  503\n",
       "Beltzhoover                     496\n",
       "Manchester                      471\n",
       "North Oakland                   455\n",
       "Chateau                         454\n",
       "Troy Hill                       437\n",
       "Central Lawrenceville           431\n",
       "Upper Hill                      370\n",
       "South Oakland                   354\n",
       "Overbrook                       331\n",
       "West Oakland                    325\n",
       "Outside City                    316\n",
       "California-Kirkbride            315\n",
       "Arlington                       312\n",
       "Point Breeze                    301\n",
       "South Shore                     301\n",
       "Terrace Village                 297\n",
       "Banksville                      291\n",
       "Squirrel Hill North             290\n",
       "West End                        290\n",
       "Point Breeze North              289\n",
       "Lower Lawrenceville             272\n",
       "Bon Air                         267\n",
       "Lincoln Place                   227\n",
       "Westwood                        226\n",
       "Stanton Heights                 223\n",
       "Spring Garden                   219\n",
       "Esplen                          200\n",
       "Duquesne Heights                191\n",
       "Upper Lawrenceville             189\n",
       "Morningside                     188\n",
       "Friendship                      174\n",
       "Glen Hazel                      169\n",
       "Polish Hill                     166\n",
       "Arlington Heights               155\n",
       "Allegheny West                  130\n",
       "Fairywood                       127\n",
       "Windgap                         124\n",
       "Mount Oliver                    124\n",
       "Hays                            120\n",
       "Golden Triangle/Civic Arena      83\n",
       "Oakwood                          82\n",
       "Summer Hill                      76\n",
       "Outside State                    67\n",
       "Outside County                   57\n",
       "St. Clair                        55\n",
       "East Carnegie                    48\n",
       "Chartiers City                   46\n",
       "Swisshelm Park                   43\n",
       "New Homestead                    39\n",
       "Regent Square                    37\n",
       "Ridgemont                        37\n",
       "Central Northside                23\n",
       "Mt. Oliver Boro                  18\n",
       "Troy Hill-Herrs Island            6\n",
       "Mt. Oliver Neighborhood           2\n",
       "Name: count, dtype: int64"
      ]
     },
     "execution_count": 23,
     "metadata": {},
     "output_type": "execute_result"
    }
   ],
   "source": [
    "import pandas as pd\n",
    "pd.set_option('display.max_rows', None)\n",
    "\n",
    "arrests = pd.read_csv('./arrests/arrests.csv')\n",
    "arrests[\"INCIDENTNEIGHBORHOOD\"].value_counts()"
   ]
  },
  {
   "cell_type": "markdown",
   "id": "0efc3928-322b-4cd6-9f63-b3370693a594",
   "metadata": {},
   "source": [
    "##### **Analysis: City Parks**"
   ]
  },
  {
   "cell_type": "code",
   "execution_count": 26,
   "id": "e5320bc3-e32e-4deb-9d5c-eae8802e45c8",
   "metadata": {},
   "outputs": [
    {
     "data": {
      "text/plain": [
       "neighborhood\n",
       "East Liberty                 12\n",
       "Central Business District    10\n",
       "Beechview                     8\n",
       "South Side Slopes             7\n",
       "Point Breeze                  7\n",
       "Hazelwood                     6\n",
       "Squirrel Hill South           6\n",
       "South Side Flats              6\n",
       "Mount Washington              6\n",
       "Sheraden                      6\n",
       "Troy Hill                     5\n",
       "South Oakland                 5\n",
       "Central Oakland               4\n",
       "Elliott                       4\n",
       "Marshall-Shadeland            4\n",
       "Brighton Heights              4\n",
       "Crawford-Roberts              3\n",
       "Greenfield                    3\n",
       "Larimer                       3\n",
       "North Shore                   3\n",
       "Central Northside             3\n",
       "Upper Lawrenceville           3\n",
       "Westwood                      3\n",
       "Lower Lawrenceville           3\n",
       "Lincoln-Lemington-Belmar      3\n",
       "Garfield                      3\n",
       "Brookline                     3\n",
       "Carrick                       3\n",
       "Spring Hill-City View         3\n",
       "Point Breeze North            3\n",
       "Swisshelm Park                3\n",
       "Manchester                    3\n",
       "Beltzhoover                   3\n",
       "Bloomfield                    3\n",
       "Allegheny Center              2\n",
       "West End                      2\n",
       "Spring Garden                 2\n",
       "Fineview                      2\n",
       "Duquesne Heights              2\n",
       "Banksville                    2\n",
       "Homewood North                2\n",
       "Strip District                2\n",
       "Highland Park                 2\n",
       "Polish Hill                   2\n",
       "Allentown                     2\n",
       "Perry South                   2\n",
       "Terrace Village               2\n",
       "Lincoln Place                 2\n",
       "Perry North                   2\n",
       "Crafton Heights               2\n",
       "Bedford Dwellings             1\n",
       "Bon Air                       1\n",
       "East Carnegie                 1\n",
       "Arlington                     1\n",
       "Homewood West                 1\n",
       "Stanton Heights               1\n",
       "Windgap                       1\n",
       "Fairywood                     1\n",
       "Esplen                        1\n",
       "East Hills                    1\n",
       "Central Lawrenceville         1\n",
       "North Oakland                 1\n",
       "Morningside                   1\n",
       "Homewood South                1\n",
       "Hays                          1\n",
       "Regent Square                 1\n",
       "Oakwood                       1\n",
       "New Homestead                 1\n",
       "Upper Hill                    1\n",
       "West Oakland                  1\n",
       "Bluff                         1\n",
       "Middle Hill                   1\n",
       "Squirrel Hill North           1\n",
       "Name: count, dtype: int64"
      ]
     },
     "execution_count": 26,
     "metadata": {},
     "output_type": "execute_result"
    }
   ],
   "source": [
    "parks = pd.read_csv('./city-parks/city-parks.csv')\n",
    "parks[\"neighborhood\"].value_counts()"
   ]
  },
  {
   "cell_type": "markdown",
   "id": "c2b3d01f-f990-4d5a-aa0a-624703411311",
   "metadata": {},
   "source": [
    "##### **Analysis: Community Center Attendance**"
   ]
  },
  {
   "cell_type": "markdown",
   "id": "7f8eb4cd-1614-43a6-b38b-fdb1eb08de6c",
   "metadata": {},
   "source": [
    "##### **Verdict: The Overall Least Depressing Neighborhood**"
   ]
  },
  {
   "cell_type": "markdown",
   "id": "98d5138c-02c9-4ac9-8920-9140ccbb96e0",
   "metadata": {},
   "source": [
    "##### **Conclusion**"
   ]
  },
  {
   "cell_type": "code",
   "execution_count": null,
   "id": "9e719992-6017-4ef5-a043-4db32005ff9b",
   "metadata": {},
   "outputs": [],
   "source": []
  }
 ],
 "metadata": {
  "kernelspec": {
   "display_name": "Python 3 (ipykernel)",
   "language": "python",
   "name": "python3"
  },
  "language_info": {
   "codemirror_mode": {
    "name": "ipython",
    "version": 3
   },
   "file_extension": ".py",
   "mimetype": "text/x-python",
   "name": "python",
   "nbconvert_exporter": "python",
   "pygments_lexer": "ipython3",
   "version": "3.12.7"
  }
 },
 "nbformat": 4,
 "nbformat_minor": 5
}
