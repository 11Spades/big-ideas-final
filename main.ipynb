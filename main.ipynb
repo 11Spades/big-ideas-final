{
 "cells": [
  {
   "cell_type": "markdown",
   "id": "937d09cc-599f-4668-b2ae-f886d522f15e",
   "metadata": {},
   "source": [
    "##### <center>**CMPINF 0010 - Group 36 Final Project**</center>\n",
    "## <center>**What is the Least Depressing Neighborhood in Pittsburgh?**</center>"
   ]
  },
  {
   "cell_type": "markdown",
   "id": "989e2fe3-6c64-4e0a-8f9d-539bca3530e2",
   "metadata": {},
   "source": [
    "##### **The Project**\n",
    "The aim of this project is to quantitatively determine the Pittsburgh neighborhood that is the least depressing to live in. To achieve this, we will be providing a clearly defined metric that we believe may indicate this quality in a neighborhood. The metric will be quantitative in nature and will be sourced from the **Western Pennsylvania Regional Data Center (WPRDC)**.\n",
    "Our approach is to pick three submetrics from the **WPRDC**, each of which we believe to have significance in our definition of *least depressing*, given below. We will analyze the submetrics individually, as well as considered together, to arrive at a verdict for overall least-depressiveness."
   ]
  },
  {
   "cell_type": "markdown",
   "id": "50ab68de-8d8a-4ed6-9b01-7cb8ac2004ae",
   "metadata": {},
   "source": [
    "##### **The Metric**\n",
    "We quantitatively define the \"least depressing neighborhood\" as the neighborhood that:\n",
    "<br>\n",
    "* `contains or has easy access to the largest number of city parks;`\n",
    "<br>\n",
    "* `has the lowest lifetime number of police arrests;`\n",
    "<br>\n",
    "* and `has the highest rates of community center attendance.`"
   ]
  },
  {
   "cell_type": "markdown",
   "id": "045edc26-81bf-4778-8e69-0e497257ab01",
   "metadata": {},
   "source": [
    "##### **Coming Up with the Metric**\n",
    "Our process of arriving at our decided metric was sophisticated. We threw around a handful of spontaneous ideas--most of which were not put to paper and thus unable to be recalled--until we found one we both seemed to be okay with--the \"least depressing\" metric for determining the best neighborhood.\n",
    "<br>\n",
    "Afterwards, we combed through the WPRDC website for available datasets that were also well-structured and thus not a hassle to analyze.\n",
    "<br>\n",
    "Out of the approximately nine suitable datasets, namely\n",
    "* no. of trees\n",
    "* no. of signalized intersections\n",
    "* no. of city parks\n",
    "* community center attendance\n",
    "* no. of smart trash containers\n",
    "* no. of playground\n",
    "* no. of bridges (this one might cut across neighborhoods)\n",
    "* no. of retaining walls\n",
    "* no. of water features (fountains, etc.),"
   ]
  },
  {
   "cell_type": "markdown",
   "id": "31303f99-92ee-4706-8c1e-0e3db194bf83",
   "metadata": {},
   "source": [
    "we settled on the current three that became our three submetrics that we will be analyzing individually and in tandem to fulfill our main metric."
   ]
  },
  {
   "cell_type": "markdown",
   "id": "624d5285-ed11-4e1f-b279-f2bf7e75108f",
   "metadata": {},
   "source": [
    "##### **Analysis: Police Arrests**"
   ]
  },
  {
   "cell_type": "markdown",
   "id": "0efc3928-322b-4cd6-9f63-b3370693a594",
   "metadata": {},
   "source": [
    "##### **Analysis: City Parks**"
   ]
  },
  {
   "cell_type": "markdown",
   "id": "c2b3d01f-f990-4d5a-aa0a-624703411311",
   "metadata": {},
   "source": [
    "##### **Analysis: Community Center Attendance**"
   ]
  },
  {
   "cell_type": "markdown",
   "id": "7f8eb4cd-1614-43a6-b38b-fdb1eb08de6c",
   "metadata": {},
   "source": [
    "##### **Verdict: The Overall Least Depressing Neighborhood**"
   ]
  },
  {
   "cell_type": "markdown",
   "id": "98d5138c-02c9-4ac9-8920-9140ccbb96e0",
   "metadata": {},
   "source": [
    "##### **Conclusion**"
   ]
  },
  {
   "cell_type": "code",
   "execution_count": null,
   "id": "9e719992-6017-4ef5-a043-4db32005ff9b",
   "metadata": {},
   "outputs": [],
   "source": []
  }
 ],
 "metadata": {
  "kernelspec": {
   "display_name": "Python 3 (ipykernel)",
   "language": "python",
   "name": "python3"
  },
  "language_info": {
   "codemirror_mode": {
    "name": "ipython",
    "version": 3
   },
   "file_extension": ".py",
   "mimetype": "text/x-python",
   "name": "python",
   "nbconvert_exporter": "python",
   "pygments_lexer": "ipython3",
   "version": "3.12.7"
  }
 },
 "nbformat": 4,
 "nbformat_minor": 5
}
